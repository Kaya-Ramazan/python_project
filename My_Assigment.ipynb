Correct_User_name = "Ramazan"
password = "rkm65478"


while True :
    User_name = input("What is your first name? : ")
     
    if User_name == Correct_User_name :
        print("Hello {} The password is : {}".format(User_name, password))
    else:
        print("Hello {}, See you later.".format(User_name))
        break

